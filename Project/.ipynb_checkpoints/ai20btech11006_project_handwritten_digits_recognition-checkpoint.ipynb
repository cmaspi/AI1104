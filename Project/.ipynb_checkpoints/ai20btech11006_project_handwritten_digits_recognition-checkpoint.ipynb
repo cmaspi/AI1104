{
 "cells": [
  {
   "cell_type": "markdown",
   "id": "83f671cf",
   "metadata": {},
   "source": [
    "## Topic: Digit Recognizer\n",
    "The following code is for [Digit Recognizer](https://www.kaggle.com/c/digit-recognizer/overview)    \n",
    "### Results:   \n",
    "accuracy (best) = 0.97335\n"
   ]
  },
  {
   "cell_type": "code",
   "execution_count": 28,
   "id": "4b1de32d",
   "metadata": {},
   "outputs": [],
   "source": [
    "#importing libraries\n",
    "import numpy as np\n",
    "import matplotlib.pyplot as plt\n",
    "import pandas as pd\n",
    "import tensorflow as tf\n",
    "from tensorflow import keras\n",
    "import os\n",
    "# The directory in which the .ipynb file is located\n",
    "working_directory = os.getcwd()\n"
   ]
  },
  {
   "cell_type": "code",
   "execution_count": 29,
   "id": "01ec4265",
   "metadata": {},
   "outputs": [
    {
     "name": "stdout",
     "output_type": "stream",
     "text": [
      "(42000, 784) (42000,)\n"
     ]
    },
    {
     "data": {
      "text/plain": [
       "<matplotlib.image.AxesImage at 0x7fc67429b3d0>"
      ]
     },
     "execution_count": 29,
     "metadata": {},
     "output_type": "execute_result"
    },
    {
     "data": {
      "image/png": "[encoded data removed]",
      "text/plain": [
       "<Figure size 288x288 with 1 Axes>"
      ]
     },
     "metadata": {
      "needs_background": "light"
     },
     "output_type": "display_data"
    }
   ],
   "source": [
    "# please note that this file, train.csv, test.csv should be in same directory\n",
    "path=working_directory+'/train.csv'\n",
    "\n",
    "# storing the input from train.csv to Data using pandas\n",
    "Data=pd.read_csv(path)\n",
    "# converting the Data to a numpy array\n",
    "numpyData=Data.to_numpy()\n",
    "\n",
    "# label is the first column\n",
    "label=numpyData[:,0]\n",
    "# rest of the columns are for data points (brightness of pixel)\n",
    "input=numpyData[:,1:]\n",
    "\n",
    "# Reducing the value of data points from 0-255 to 0-1\n",
    "input=input/255\n",
    "print(input.shape,label.shape)\n",
    "\n",
    "# sample of how the image looks like\n",
    "plt.matshow(numpyData[1,1:].reshape(28,28))"
   ]
  },
  {
   "cell_type": "markdown",
   "id": "e1192095",
   "metadata": {},
   "source": [
    "### Why reduce the value of range of brightness of each pixel\n",
    "The model suits better when the input nodes are small.   \n",
    "It can be explained in the following manner,   \n",
    "Lets say $\\alpha$ is set of optimal parameters in original input case (input layer to hidden layer), in the reduced pixel brightness case, it would be $0.01*\\alpha$. Now if alpha is already small, for same learning rate as in reduced case, it would cause the parameters to overshoot, while a lower or decaying learning rates may still not be a solution because it may cause the model training to slow down \n"
   ]
  },
  {
   "cell_type": "code",
   "execution_count": 30,
   "id": "8ab28fa8",
   "metadata": {},
   "outputs": [
    {
     "name": "stdout",
     "output_type": "stream",
     "text": [
      "Epoch 1/10\n",
      "1313/1313 [==============================] - 3s 2ms/step - loss: 0.3358 - accuracy: 0.9057\n",
      "Epoch 2/10\n",
      "1313/1313 [==============================] - 3s 2ms/step - loss: 0.1734 - accuracy: 0.9495\n",
      "Epoch 3/10\n",
      "1313/1313 [==============================] - 3s 2ms/step - loss: 0.1259 - accuracy: 0.9640\n",
      "Epoch 4/10\n",
      "1313/1313 [==============================] - 2s 2ms/step - loss: 0.0973 - accuracy: 0.9716\n",
      "Epoch 5/10\n",
      "1313/1313 [==============================] - 2s 2ms/step - loss: 0.0790 - accuracy: 0.9777\n",
      "Epoch 6/10\n",
      "1313/1313 [==============================] - 2s 2ms/step - loss: 0.0631 - accuracy: 0.9825\n",
      "Epoch 7/10\n",
      "1313/1313 [==============================] - 2s 2ms/step - loss: 0.0513 - accuracy: 0.9858\n",
      "Epoch 8/10\n",
      "1313/1313 [==============================] - 2s 2ms/step - loss: 0.0428 - accuracy: 0.9883\n",
      "Epoch 9/10\n",
      "1313/1313 [==============================] - 2s 2ms/step - loss: 0.0344 - accuracy: 0.9907\n",
      "Epoch 10/10\n",
      "1313/1313 [==============================] - 2s 2ms/step - loss: 0.0278 - accuracy: 0.9938\n"
     ]
    },
    {
     "data": {
      "text/plain": [
       "<tensorflow.python.keras.callbacks.History at 0x7fc6af346a90>"
      ]
     },
     "execution_count": 30,
     "metadata": {},
     "output_type": "execute_result"
    }
   ],
   "source": [
    "# We are using one hidden layer with 80 nodes\n",
    "# I tested for 50,75,80,100,125,400 There wasn't much difference in performance\n",
    "# I went for lower value as it wouldn't cause model to over fit\n",
    "# I took tanh activation function from input to hidden because it gave better results than sigmoid\n",
    "# another thing is ReLu gave overfitting\n",
    "# using ReLu/tanh for hidden to output layer activation caused underfitting\n",
    "model = keras.Sequential([\n",
    "    keras.layers.Dense(80, input_shape=(784,), activation='tanh'),\n",
    "    keras.layers.Dense(10, activation='sigmoid')\n",
    "])\n",
    "\n",
    "# Among adam, adamax, sgd, nadam . The best reults were given by adam\n",
    "# I tried mean squared error, sparse categorical cross entropy,\n",
    "# the latter produced better result\n",
    "model.compile(optimizer='adam',\n",
    "              loss='sparse_categorical_crossentropy',\n",
    "              metrics=['accuracy'])\n",
    "\n",
    "# I tried epoch = 5, 7 , 10, 15.\n",
    "# They produced similar results\n",
    "model.fit(input, label, epochs=10)"
   ]
  },
  {
   "cell_type": "code",
   "execution_count": 31,
   "id": "ec903b40",
   "metadata": {},
   "outputs": [
    {
     "name": "stdout",
     "output_type": "stream",
     "text": [
      "(28000, 784)\n"
     ]
    },
    {
     "data": {
      "image/png": "[encoded data removed]",
      "text/plain": [
       "<Figure size 288x288 with 1 Axes>"
      ]
     },
     "metadata": {
      "needs_background": "light"
     },
     "output_type": "display_data"
    }
   ],
   "source": [
    "# now for test.csv\n",
    "path_test=working_directory+'/test.csv'\n",
    "# storing the input from test.csv in Test_Data\n",
    "Test_Data=pd.read_csv(path_test)\n",
    "\n",
    "# Creating a numpy array for test data\n",
    "numpyData_test=Test_Data.to_numpy()\n",
    "\n",
    "\n",
    "input_test=numpyData_test[:,:]\n",
    "\n",
    "# Reducing the value in input_test\n",
    "input_test=input_test/255\n",
    "\n",
    "print(input_test.shape)\n",
    "\n",
    "# here is one of the images in test.csv \n",
    "plt.matshow(numpyData_test[0,:].reshape(28,28))\n",
    "predicted=model.predict(input_test)\n",
    "\n",
    "# The predicted label is the one which has largest value in output node\n",
    "# the output nodes with index i (i=0 to 9) represent same integer\n",
    "predicted=np.argmax(predicted,axis=1)\n",
    "\n",
    "# convert array into dataframe\n",
    "index=np.linspace(1,28000,28000)\n",
    "DF = pd.DataFrame(predicted,index)\n",
    "DF.columns=['Label']\n",
    "DF.rename(columns={'':'ImageID'},inplace = True)\n",
    "# save the dataframe as a csv file\n",
    "DF.to_csv(\"predicted.csv\")"
   ]
  },
  {
   "cell_type": "code",
   "execution_count": 32,
   "id": "e3bf9832",
   "metadata": {},
   "outputs": [
    {
     "name": "stdout",
     "output_type": "stream",
     "text": [
      "1313/1313 [==============================] - 2s 1ms/step - loss: 0.0204 - accuracy: 0.9960\n"
     ]
    },
    {
     "data": {
      "text/plain": [
       "[0.020403537899255753, 0.9960238337516785]"
      ]
     },
     "execution_count": 32,
     "metadata": {},
     "output_type": "execute_result"
    }
   ],
   "source": [
    "#Training loss, accuracy\n",
    "model.evaluate(input,label)"
   ]
  },
  {
   "cell_type": "code",
   "execution_count": null,
   "id": "3574eb48",
   "metadata": {},
   "outputs": [],
   "source": []
  }
 ],
 "metadata": {
  "kernelspec": {
   "display_name": "Python 3 (ipykernel)",
   "language": "python",
   "name": "python3"
  },
  "language_info": {
   "codemirror_mode": {
    "name": "ipython",
    "version": 3
   },
   "file_extension": ".py",
   "mimetype": "text/x-python",
   "name": "python",
   "nbconvert_exporter": "python",
   "pygments_lexer": "ipython3",
   "version": "3.8.10"
  }
 },
 "nbformat": 4,
 "nbformat_minor": 5
}
